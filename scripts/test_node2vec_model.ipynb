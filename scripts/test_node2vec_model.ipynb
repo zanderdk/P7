{
 "cells": [
  {
   "cell_type": "code",
   "execution_count": 1,
   "metadata": {
    "collapsed": false
   },
   "outputs": [
    {
     "name": "stderr",
     "output_type": "stream",
     "text": [
      "Using TensorFlow backend.\n"
     ]
    }
   ],
   "source": [
    "from gensim.models import Word2Vec\n",
    "import sys\n",
    "from sklearn.linear_model import SGDClassifier\n",
    "from sklearn.dummy import DummyClassifier\n",
    "from sklearn.svm import LinearSVC\n",
    "from sklearn.model_selection import KFold, cross_val_score\n",
    "import matplotlib\n",
    "matplotlib.use('Agg')\n",
    "import matplotlib.pyplot as plt\n",
    "from sklearn import tree\n",
    "from keras.wrappers.scikit_learn import KerasClassifier\n",
    "from keras.models import Sequential\n",
    "from keras.layers import Dense\n",
    "import numpy as np"
   ]
  },
  {
   "cell_type": "code",
   "execution_count": 9,
   "metadata": {
    "collapsed": true
   },
   "outputs": [],
   "source": [
    "# load the model containing features\n",
    "node2vecmodel = Word2Vec.load_word2vec_format(\"modelUndirectedClickRate.bin\" , binary=False)"
   ]
  },
  {
   "cell_type": "code",
   "execution_count": 31,
   "metadata": {
    "collapsed": false
   },
   "outputs": [
    {
     "name": "stdout",
     "output_type": "stream",
     "text": [
      "60602\n",
      "75516\n",
      "27538\n"
     ]
    }
   ],
   "source": [
    "X = []\n",
    "Y = []\n",
    "\n",
    "def handle_features(source, target):\n",
    "    features_source = node2vecmodel[source]\n",
    "    features_target = node2vecmodel[target]\n",
    "    return features_source * features_target\n",
    "\n",
    "# load all training pairs\n",
    "i = 0\n",
    "with open(\"/Users/simon/Documents/P7/scripts/trainingPairs.txt\") as f:\n",
    "    for line in f:\n",
    "        source, target, label = tuple(line.split(\"\\t\"))\n",
    "\n",
    "        if source in node2vecmodel and target in node2vecmodel:\n",
    "            features = handle_features(source, target)\n",
    "            label = -1 if int(label) == 0 else 1\n",
    "            Y.append(label)\n",
    "            X.append(features)\n",
    "        else:\n",
    "            i += 1\n",
    "\n",
    "\n",
    "print(len([x for x in Y if x == -1]))\n",
    "print(len([x for x in Y if x == 1]))\n",
    "print(i)\n",
    "X = np.array(X)\n",
    "Y = np.array(Y)"
   ]
  },
  {
   "cell_type": "code",
   "execution_count": 32,
   "metadata": {
    "collapsed": false
   },
   "outputs": [
    {
     "data": {
      "text/plain": [
       "SGDClassifier(alpha=0.0001, average=False, class_weight=None, epsilon=0.1,\n",
       "       eta0=0.0, fit_intercept=True, l1_ratio=0.15,\n",
       "       learning_rate='optimal', loss='hinge', n_iter=5, n_jobs=1,\n",
       "       penalty='l2', power_t=0.5, random_state=None, shuffle=True,\n",
       "       verbose=0, warm_start=False)"
      ]
     },
     "execution_count": 32,
     "metadata": {},
     "output_type": "execute_result"
    }
   ],
   "source": [
    "model = SGDClassifier(loss=\"hinge\", penalty=\"l2\")\n",
    "model.fit(X,Y)"
   ]
  },
  {
   "cell_type": "code",
   "execution_count": 33,
   "metadata": {
    "collapsed": false
   },
   "outputs": [
    {
     "name": "stderr",
     "output_type": "stream",
     "text": [
      "/usr/local/lib/python3.5/site-packages/sklearn/utils/validation.py:395: DeprecationWarning: Passing 1d arrays as data is deprecated in 0.17 and will raise ValueError in 0.19. Reshape your data either using X.reshape(-1, 1) if your data has a single feature or X.reshape(1, -1) if it contains a single sample.\n",
      "  DeprecationWarning)\n"
     ]
    },
    {
     "data": {
      "text/plain": [
       "array([1])"
      ]
     },
     "execution_count": 33,
     "metadata": {},
     "output_type": "execute_result"
    }
   ],
   "source": [
    "model.predict(handle_features(\"Hull_House\", \"Dorset\"))"
   ]
  },
  {
   "cell_type": "code",
   "execution_count": 35,
   "metadata": {
    "collapsed": false
   },
   "outputs": [
    {
     "data": {
      "text/plain": [
       "array([  5.01808063e-05,   5.58966394e-06,  -1.74713841e-05,\n",
       "         1.42608958e-04,  -1.85299668e-05,  -6.68976718e-05,\n",
       "         1.49306402e-06,  -2.24485571e-04,   7.31448454e-05,\n",
       "         4.30349392e-05,  -1.58169587e-05,  -2.95010705e-05,\n",
       "        -1.60777618e-05,   3.43087049e-05,  -2.83456011e-05,\n",
       "         2.17078014e-05,   8.29275305e-05,  -2.52420985e-04,\n",
       "         1.88621998e-05,   1.21838912e-05,  -5.20617141e-05,\n",
       "        -4.38245988e-05,   2.28046410e-05,   1.72204076e-04,\n",
       "         9.43936029e-05,  -5.68757278e-05,  -1.15217517e-05,\n",
       "         1.15350376e-04,  -2.58629984e-06,  -1.08805179e-04,\n",
       "        -1.77248876e-05,  -5.45173425e-05,  -2.52932805e-05,\n",
       "        -2.26638091e-04,  -1.14771728e-05,  -8.54372047e-05,\n",
       "         6.97579162e-06,   5.81959430e-05,   3.97224721e-05,\n",
       "        -3.22274573e-05,   2.00094510e-05,  -5.62878158e-05,\n",
       "         1.07850537e-05,   9.35170174e-05,  -5.17439958e-07,\n",
       "         2.09943086e-04,  -2.37368313e-05,  -2.32820275e-05,\n",
       "        -1.61187327e-05,   5.17904336e-05,  -4.04396985e-07,\n",
       "         3.85586354e-05,  -6.88375076e-05,   8.74510988e-07,\n",
       "        -8.37231801e-06,   7.46279693e-05,  -6.16648467e-05,\n",
       "         5.79282678e-05,  -4.46519625e-05,   9.96811286e-06,\n",
       "         9.46440341e-05,   4.93021980e-05,  -9.00245577e-05,\n",
       "         1.67488597e-05], dtype=float32)"
      ]
     },
     "execution_count": 35,
     "metadata": {},
     "output_type": "execute_result"
    }
   ],
   "source": [
    "X[0]"
   ]
  },
  {
   "cell_type": "code",
   "execution_count": 34,
   "metadata": {
    "collapsed": false
   },
   "outputs": [
    {
     "name": "stdout",
     "output_type": "stream",
     "text": [
      "SGD: 0.713646 (0.001293)\n"
     ]
    }
   ],
   "source": [
    "num_folds = 10\n",
    "seed = 7\n",
    "# prepare models\n",
    "models = []\n",
    "models.append(('SGD', SGDClassifier(loss=\"hinge\", penalty=\"l2\")))\n",
    "\n",
    "# evaluate each model in turn\n",
    "results = []\n",
    "names = []\n",
    "scoring = 'f1'\n",
    "for name, model in models:\n",
    "    kfold = KFold(n_splits=num_folds, shuffle=True, random_state=seed)\n",
    "    cv_results = cross_val_score(model, X, y=Y, cv=kfold, scoring=scoring)\n",
    "    results.append(cv_results)\n",
    "    names.append(name)\n",
    "    msg = \"%s: %f (%f)\" % (name, cv_results.mean(), cv_results.std())\n",
    "    print(msg)"
   ]
  }
 ],
 "metadata": {
  "kernelspec": {
   "display_name": "Python 3",
   "language": "python",
   "name": "python3"
  },
  "language_info": {
   "codemirror_mode": {
    "name": "ipython",
    "version": 3
   },
   "file_extension": ".py",
   "mimetype": "text/x-python",
   "name": "python",
   "nbconvert_exporter": "python",
   "pygments_lexer": "ipython3",
   "version": "3.5.2"
  }
 },
 "nbformat": 4,
 "nbformat_minor": 1
}
