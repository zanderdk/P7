{
 "cells": [
  {
   "cell_type": "code",
   "execution_count": 2,
   "metadata": {
    "collapsed": false
   },
   "outputs": [
    {
     "name": "stderr",
     "output_type": "stream",
     "text": [
      "/usr/local/lib/python3.5/site-packages/matplotlib/__init__.py:1357: UserWarning:  This call to matplotlib.use() has no effect\n",
      "because the backend has already been chosen;\n",
      "matplotlib.use() must be called *before* pylab, matplotlib.pyplot,\n",
      "or matplotlib.backends is imported for the first time.\n",
      "\n",
      "  warnings.warn(_use_error_msg)\n"
     ]
    }
   ],
   "source": [
    "%matplotlib inline\n",
    "from gensim.models import Word2Vec\n",
    "import sys\n",
    "import random\n",
    "from sklearn.linear_model import SGDClassifier\n",
    "from sklearn.dummy import DummyClassifier\n",
    "from sklearn.svm import LinearSVC\n",
    "from sklearn.model_selection import KFold, cross_val_score\n",
    "import matplotlib\n",
    "matplotlib.use('Agg')\n",
    "import matplotlib.pyplot as plt\n",
    "from sklearn import tree\n",
    "from keras.wrappers.scikit_learn import KerasClassifier\n",
    "from keras.models import Sequential\n",
    "from keras.layers import Dense\n",
    "import numpy as np\n",
    "from sklearn.model_selection import train_test_split\n",
    "from sklearn.metrics import classification_report\n",
    "from sklearn.metrics import confusion_matrix\n",
    "import itertools\n",
    "from sklearn.ensemble import GradientBoostingClassifier\n",
    "from sklearn.metrics import f1_score"
   ]
  },
  {
   "cell_type": "code",
   "execution_count": 3,
   "metadata": {
    "collapsed": true
   },
   "outputs": [],
   "source": [
    "# load the model containing features\n",
    "node2vecmodel = Word2Vec.load_word2vec_format(\"node2vec-model-p=10000.0-q=10000.0-l=144-r=3-d=206-k=59-weighted=False-directed=False\" , binary=False)"
   ]
  },
  {
   "cell_type": "code",
   "execution_count": 4,
   "metadata": {
    "collapsed": false
   },
   "outputs": [
    {
     "name": "stdout",
     "output_type": "stream",
     "text": [
      "Not in the model: 80164\n",
      "X size: 65474\n",
      "Y size: 65474\n"
     ]
    }
   ],
   "source": [
    "# we use this list to store feature, label pairs.\n",
    "# to have a 50:50 pos:neg distribution, we have to first shuffle the list, and then \n",
    "# take cut the correct list to fit the distribution\n",
    "all_pairs = []\n",
    "\n",
    "def handle_features(source, target):\n",
    "    features_source = node2vecmodel[source]\n",
    "    features_target = node2vecmodel[target]\n",
    "    # hadamard\n",
    "    return features_source * features_target\n",
    "\n",
    "i = 0\n",
    "# load all training pairs\n",
    "with open(\"training_data.csv\") as training_data:\n",
    "    for line in training_data:\n",
    "        source, target, label = tuple(line.split())\n",
    "        if source in node2vecmodel and target in node2vecmodel:\n",
    "            features = handle_features(source, target)\n",
    "            label = int(label)\n",
    "            all_pairs.append((features, label))\n",
    "        else:\n",
    "            # count the number of pairs not in the model\n",
    "            i += 1\n",
    "\n",
    "# now shuffle all_pairs\n",
    "random.shuffle(all_pairs)\n",
    "\n",
    "# we can now calculate the number of samples to keep for pos, neg\n",
    "neg_list = [x for x in all_pairs if x[1] == 0]\n",
    "neg_len = len(neg_list)\n",
    "pos_list = [x for x in all_pairs if x[1] == 1]\n",
    "pos_len = len(pos_list)\n",
    "print(\"Not in the model: \" + str(i))\n",
    "\n",
    "# make sure that we have 50:50 distribution between pos:neg\n",
    "if  pos_len > neg_len:\n",
    "    # too many in positives\n",
    "    pos_list = pos_list[:neg_len]\n",
    "else:\n",
    "    # too many negatives\n",
    "    neg_list = neg_list[:pos_len]\n",
    "\n",
    "assert(len(pos_list) == len(neg_list))\n",
    "    \n",
    "    \n",
    "X = [x[0] for x in (neg_list + pos_list)]\n",
    "Y = [x[1] for x in (neg_list + pos_list)]\n",
    "\n",
    "print(\"X size: \" + str(len(X)))\n",
    "print(\"Y size: \" + str(len(Y)))\n",
    "    \n",
    "X = np.array(X)\n",
    "Y = np.array(Y)\n",
    "\n"
   ]
  },
  {
   "cell_type": "code",
   "execution_count": null,
   "metadata": {
    "collapsed": false,
    "scrolled": false
   },
   "outputs": [
    {
     "name": "stdout",
     "output_type": "stream",
     "text": [
      "-------------------------SGD-----------------------------------\n",
      "SGD: 0.784990 (0.009752)\n",
      "-------------------------Dummy-----------------------------------\n",
      "Dummy: 0.498493 (0.008196)\n",
      "-------------------------Gradient Boosting-----------------------------------\n"
     ]
    }
   ],
   "source": [
    "num_folds = 10\n",
    "seed = 7\n",
    "\n",
    "num_features = len(X[0])\n",
    "\n",
    "# prepare models\n",
    "models = []\n",
    "models.append(('SGD', SGDClassifier(loss=\"hinge\", penalty=\"l2\")))\n",
    "# sanity check\n",
    "models.append(('Dummy', DummyClassifier(\"uniform\")))\n",
    "def keras_baseline_model():\n",
    "    # create model\n",
    "    model = Sequential()\n",
    "    model.add(Dense(32, input_dim=num_features, init='normal', activation='relu'))\n",
    "    model.add(Dense(1, init='normal', activation=\"relu\"))\n",
    "    # Compile model\n",
    "    model.compile(loss='mean_squared_error', optimizer='adam')\n",
    "    return model\n",
    "#models.append(('Keras', KerasClassifier(build_fn=keras_baseline_model, nb_epoch=100, batch_size=128, verbose=0)))\n",
    "\n",
    "models.append(('Gradient Boosting', GradientBoostingClassifier()))\n",
    "\n",
    "\n",
    "# evaluate each model in turn\n",
    "results = []\n",
    "names = []\n",
    "scoring = 'f1'\n",
    "for name, model in models:\n",
    "    print(\"-------------------------\" + name + \"-----------------------------------\")\n",
    "    kfold = KFold(n_splits=num_folds, shuffle=True, random_state=seed)\n",
    "    cv_results = cross_val_score(model, X, y=Y, cv=kfold, scoring=scoring)\n",
    "    results.append(cv_results)\n",
    "    names.append(name)\n",
    "    msg = \"%s: %f (%f)\" % (name, cv_results.mean(), cv_results.std())\n",
    "    print(msg)\n",
    "    "
   ]
  },
  {
   "cell_type": "code",
   "execution_count": 6,
   "metadata": {
    "collapsed": true
   },
   "outputs": [],
   "source": [
    "def plot_confusion_matrix(cm, classes,\n",
    "                          normalize=False,\n",
    "                          title='Confusion matrix',\n",
    "                          cmap=plt.cm.Blues):\n",
    "    \"\"\"\n",
    "    This function prints and plots the confusion matrix.\n",
    "    Normalization can be applied by setting `normalize=True`.\n",
    "    \"\"\"\n",
    "    plt.imshow(cm, interpolation='nearest', cmap=cmap)\n",
    "    plt.title(title)\n",
    "    plt.colorbar()\n",
    "    tick_marks = np.arange(len(classes))\n",
    "    plt.xticks(tick_marks, classes, rotation=45)\n",
    "    plt.yticks(tick_marks, classes)\n",
    "\n",
    "    if normalize:\n",
    "        cm = cm.astype('float') / cm.sum(axis=1)[:, np.newaxis]\n",
    "        print(\"Normalized confusion matrix\")\n",
    "    else:\n",
    "        print('Confusion matrix, without normalization')\n",
    "\n",
    "    print(cm)\n",
    "\n",
    "    thresh = cm.max() / 2.\n",
    "    for i, j in itertools.product(range(cm.shape[0]), range(cm.shape[1])):\n",
    "        plt.text(j, i, cm[i, j],\n",
    "                 horizontalalignment=\"center\",\n",
    "                 color=\"white\" if cm[i, j] > thresh else \"black\")\n",
    "\n",
    "    plt.tight_layout()\n",
    "    plt.ylabel('True label')\n",
    "    plt.xlabel('Predicted label')"
   ]
  }
 ],
 "metadata": {
  "kernelspec": {
   "display_name": "Python 3",
   "language": "python",
   "name": "python3"
  },
  "language_info": {
   "codemirror_mode": {
    "name": "ipython",
    "version": 3
   },
   "file_extension": ".py",
   "mimetype": "text/x-python",
   "name": "python",
   "nbconvert_exporter": "python",
   "pygments_lexer": "ipython3",
   "version": "3.5.2"
  }
 },
 "nbformat": 4,
 "nbformat_minor": 1
}
