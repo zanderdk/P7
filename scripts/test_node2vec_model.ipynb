{
 "cells": [
  {
   "cell_type": "code",
   "execution_count": 48,
   "metadata": {
    "collapsed": false
   },
   "outputs": [
    {
     "name": "stderr",
     "output_type": "stream",
     "text": [
      "/home/simon/.local/lib/python3.5/site-packages/matplotlib/__init__.py:1357: UserWarning:  This call to matplotlib.use() has no effect\n",
      "because the backend has already been chosen;\n",
      "matplotlib.use() must be called *before* pylab, matplotlib.pyplot,\n",
      "or matplotlib.backends is imported for the first time.\n",
      "\n",
      "  warnings.warn(_use_error_msg)\n"
     ]
    }
   ],
   "source": [
    "%matplotlib inline\n",
    "from gensim.models import Word2Vec\n",
    "import sys\n",
    "from sklearn.linear_model import SGDClassifier\n",
    "from sklearn.dummy import DummyClassifier\n",
    "from sklearn.svm import LinearSVC\n",
    "from sklearn.model_selection import KFold, cross_val_score\n",
    "import matplotlib\n",
    "matplotlib.use('Agg')\n",
    "import matplotlib.pyplot as plt\n",
    "from sklearn import tree\n",
    "from keras.wrappers.scikit_learn import KerasClassifier\n",
    "from keras.models import Sequential\n",
    "from keras.layers import Dense\n",
    "import numpy as np\n",
    "from sklearn.model_selection import train_test_split\n",
    "from sklearn.metrics import classification_report\n",
    "from sklearn.metrics import confusion_matrix\n",
    "import itertools"
   ]
  },
  {
   "cell_type": "code",
   "execution_count": 2,
   "metadata": {
    "collapsed": true
   },
   "outputs": [],
   "source": [
    "# load the model containing features\n",
    "node2vecmodel = Word2Vec.load_word2vec_format(\"../big.bin\" , binary=False)"
   ]
  },
  {
   "cell_type": "code",
   "execution_count": 63,
   "metadata": {
    "collapsed": false
   },
   "outputs": [
    {
     "name": "stdout",
     "output_type": "stream",
     "text": [
      "39679\n",
      "79403\n",
      "24224\n"
     ]
    }
   ],
   "source": [
    "X = []\n",
    "Y = []\n",
    "\n",
    "def handle_features(source, target):\n",
    "    features_source = node2vecmodel[source]\n",
    "    features_target = node2vecmodel[target]\n",
    "    return features_source * features_target\n",
    "\n",
    "# load all training pairs\n",
    "i = 0\n",
    "with open(\"trainingPairs_rust\") as f:\n",
    "    for line in f:\n",
    "        source, target, label = tuple(line.split())\n",
    "        if label == \"1\": continue\n",
    "        if source in node2vecmodel and target in node2vecmodel:\n",
    "            features = handle_features(source, target)\n",
    "            #label = -1 if int(label) == 0 else 1\n",
    "            label = int(label)\n",
    "            Y.append(label)\n",
    "            X.append(features)\n",
    "        else:\n",
    "            i += 1\n",
    "            \n",
    "# load positives from here\n",
    "with open(\"trainingPairs.txt\") as f:\n",
    "    for line in f:\n",
    "        source, target, label = tuple(line.split())\n",
    "        if label == \"0\": continue\n",
    "        if source in node2vecmodel and target in node2vecmodel:\n",
    "            features = handle_features(source, target)\n",
    "            #label = -1 if int(label) == 0 else 1\n",
    "            label = int(label)\n",
    "            Y.append(label)\n",
    "            X.append(features)\n",
    "        else:\n",
    "            i += 1\n",
    "\n",
    "\n",
    "print(len([x for x in Y if x == 0]))\n",
    "print(len([x for x in Y if x == 1]))\n",
    "print(i)\n",
    "X = np.array(X)\n",
    "Y = np.array(Y)"
   ]
  },
  {
   "cell_type": "code",
   "execution_count": 6,
   "metadata": {
    "collapsed": false
   },
   "outputs": [
    {
     "data": {
      "text/plain": [
       "SGDClassifier(alpha=0.0001, average=False, class_weight=None, epsilon=0.1,\n",
       "       eta0=0.0, fit_intercept=True, l1_ratio=0.15,\n",
       "       learning_rate='optimal', loss='hinge', n_iter=5, n_jobs=1,\n",
       "       penalty='l2', power_t=0.5, random_state=None, shuffle=True,\n",
       "       verbose=0, warm_start=False)"
      ]
     },
     "execution_count": 6,
     "metadata": {},
     "output_type": "execute_result"
    }
   ],
   "source": [
    "model = SGDClassifier(loss=\"hinge\", penalty=\"l2\")\n",
    "model.fit(X,Y)"
   ]
  },
  {
   "cell_type": "code",
   "execution_count": 16,
   "metadata": {
    "collapsed": false
   },
   "outputs": [
    {
     "name": "stderr",
     "output_type": "stream",
     "text": [
      "/usr/local/lib/python3.5/dist-packages/sklearn/utils/validation.py:395: DeprecationWarning: Passing 1d arrays as data is deprecated in 0.17 and will raise ValueError in 0.19. Reshape your data either using X.reshape(-1, 1) if your data has a single feature or X.reshape(1, -1) if it contains a single sample.\n",
      "  DeprecationWarning)\n"
     ]
    },
    {
     "data": {
      "text/plain": [
       "array([1])"
      ]
     },
     "execution_count": 16,
     "metadata": {},
     "output_type": "execute_result"
    }
   ],
   "source": [
    "model.predict(handle_features(\"Jesus\", \"Gabriel\"))"
   ]
  },
  {
   "cell_type": "code",
   "execution_count": 35,
   "metadata": {
    "collapsed": false
   },
   "outputs": [
    {
     "data": {
      "text/plain": [
       "array([  5.01808063e-05,   5.58966394e-06,  -1.74713841e-05,\n",
       "         1.42608958e-04,  -1.85299668e-05,  -6.68976718e-05,\n",
       "         1.49306402e-06,  -2.24485571e-04,   7.31448454e-05,\n",
       "         4.30349392e-05,  -1.58169587e-05,  -2.95010705e-05,\n",
       "        -1.60777618e-05,   3.43087049e-05,  -2.83456011e-05,\n",
       "         2.17078014e-05,   8.29275305e-05,  -2.52420985e-04,\n",
       "         1.88621998e-05,   1.21838912e-05,  -5.20617141e-05,\n",
       "        -4.38245988e-05,   2.28046410e-05,   1.72204076e-04,\n",
       "         9.43936029e-05,  -5.68757278e-05,  -1.15217517e-05,\n",
       "         1.15350376e-04,  -2.58629984e-06,  -1.08805179e-04,\n",
       "        -1.77248876e-05,  -5.45173425e-05,  -2.52932805e-05,\n",
       "        -2.26638091e-04,  -1.14771728e-05,  -8.54372047e-05,\n",
       "         6.97579162e-06,   5.81959430e-05,   3.97224721e-05,\n",
       "        -3.22274573e-05,   2.00094510e-05,  -5.62878158e-05,\n",
       "         1.07850537e-05,   9.35170174e-05,  -5.17439958e-07,\n",
       "         2.09943086e-04,  -2.37368313e-05,  -2.32820275e-05,\n",
       "        -1.61187327e-05,   5.17904336e-05,  -4.04396985e-07,\n",
       "         3.85586354e-05,  -6.88375076e-05,   8.74510988e-07,\n",
       "        -8.37231801e-06,   7.46279693e-05,  -6.16648467e-05,\n",
       "         5.79282678e-05,  -4.46519625e-05,   9.96811286e-06,\n",
       "         9.46440341e-05,   4.93021980e-05,  -9.00245577e-05,\n",
       "         1.67488597e-05], dtype=float32)"
      ]
     },
     "execution_count": 35,
     "metadata": {},
     "output_type": "execute_result"
    }
   ],
   "source": [
    "X[0]"
   ]
  },
  {
   "cell_type": "code",
   "execution_count": 65,
   "metadata": {
    "collapsed": false,
    "scrolled": false
   },
   "outputs": [
    {
     "name": "stdout",
     "output_type": "stream",
     "text": [
      "SGD: 0.891870 (0.001842)\n",
      "Confusion matrix:\n",
      "[[14529  5247]\n",
      " [ 3476 36289]]\n",
      "Normalized confusion matrix\n",
      "[[ 0.7346784   0.2653216 ]\n",
      " [ 0.08741355  0.91258645]]\n"
     ]
    },
    {
     "data": {
      "image/png": "[encoded data removed]",
      "text/plain": [
       "<matplotlib.figure.Figure at 0x7fc3ebfe4358>"
      ]
     },
     "metadata": {},
     "output_type": "display_data"
    }
   ],
   "source": [
    "num_folds = 3\n",
    "seed = 7\n",
    "# prepare models\n",
    "models = []\n",
    "models.append(('SGD', SGDClassifier(loss=\"hinge\", penalty=\"l2\")))\n",
    "# sanity check\n",
    "#models.append(('Dummy', DummyClassifier(\"uniform\")))\n",
    "def keras_baseline_model():\n",
    "    # create model\n",
    "    model = Sequential()\n",
    "    model.add(Dense(32, input_dim=128, init='normal', activation='relu'))\n",
    "    model.add(Dense(1, init='normal', activation=\"relu\"))\n",
    "    # Compile model\n",
    "    model.compile(loss='mean_squared_error', optimizer='adam')\n",
    "    return model\n",
    "#models.append(('Keras', KerasClassifier(build_fn=keras_baseline_model, nb_epoch=10, batch_size=128, verbose=0)))\n",
    "\n",
    "# Split the dataset in two equal parts\n",
    "X_train, X_test, y_train, y_test = train_test_split(\n",
    "    X, Y, test_size=0.5, random_state=0)\n",
    "\n",
    "\n",
    "# evaluate each model in turn\n",
    "results = []\n",
    "names = []\n",
    "scoring = 'f1'\n",
    "for name, model in models:\n",
    "    kfold = KFold(n_splits=num_folds, shuffle=True, random_state=seed)\n",
    "    cv_results = cross_val_score(model, X, y=Y, cv=kfold, scoring=scoring)\n",
    "    results.append(cv_results)\n",
    "    names.append(name)\n",
    "    msg = \"%s: %f (%f)\" % (name, cv_results.mean(), cv_results.std())\n",
    "    print(msg)\n",
    "    \n",
    "    model.fit(X_train, y_train)\n",
    "    y_true, y_pred = y_test, model.predict(X_test)\n",
    "    #print(\"Classification report:\")\n",
    "    #print(classification_report(y_true, y_pred))\n",
    "    \n",
    "    print(\"Confusion matrix:\")\n",
    "    cm = confusion_matrix(y_true, y_pred)\n",
    "    print(cm)\n",
    "    plot_confusion_matrix(cm, [\"0\", \"1\"], normalize=True) \n",
    "    "
   ]
  },
  {
   "cell_type": "code",
   "execution_count": 43,
   "metadata": {
    "collapsed": true
   },
   "outputs": [],
   "source": [
    "def plot_confusion_matrix(cm, classes,\n",
    "                          normalize=False,\n",
    "                          title='Confusion matrix',\n",
    "                          cmap=plt.cm.Blues):\n",
    "    \"\"\"\n",
    "    This function prints and plots the confusion matrix.\n",
    "    Normalization can be applied by setting `normalize=True`.\n",
    "    \"\"\"\n",
    "    plt.imshow(cm, interpolation='nearest', cmap=cmap)\n",
    "    plt.title(title)\n",
    "    plt.colorbar()\n",
    "    tick_marks = np.arange(len(classes))\n",
    "    plt.xticks(tick_marks, classes, rotation=45)\n",
    "    plt.yticks(tick_marks, classes)\n",
    "\n",
    "    if normalize:\n",
    "        cm = cm.astype('float') / cm.sum(axis=1)[:, np.newaxis]\n",
    "        print(\"Normalized confusion matrix\")\n",
    "    else:\n",
    "        print('Confusion matrix, without normalization')\n",
    "\n",
    "    print(cm)\n",
    "\n",
    "    thresh = cm.max() / 2.\n",
    "    for i, j in itertools.product(range(cm.shape[0]), range(cm.shape[1])):\n",
    "        plt.text(j, i, cm[i, j],\n",
    "                 horizontalalignment=\"center\",\n",
    "                 color=\"white\" if cm[i, j] > thresh else \"black\")\n",
    "\n",
    "    plt.tight_layout()\n",
    "    plt.ylabel('True label')\n",
    "    plt.xlabel('Predicted label')"
   ]
  }
 ],
 "metadata": {
  "kernelspec": {
   "display_name": "Python 3",
   "language": "python",
   "name": "python3"
  },
  "language_info": {
   "codemirror_mode": {
    "name": "ipython",
    "version": 3
   },
   "file_extension": ".py",
   "mimetype": "text/x-python",
   "name": "python",
   "nbconvert_exporter": "python",
   "pygments_lexer": "ipython3",
   "version": "3.5.2+"
  }
 },
 "nbformat": 4,
 "nbformat_minor": 1
}
